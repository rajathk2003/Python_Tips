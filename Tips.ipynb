{
 "cells": [
  {
   "cell_type": "markdown",
   "metadata": {},
   "source": [
    "# Python Tips\n",
    "### Author: Rajath K\n"
   ]
  },
  {
   "cell_type": "code",
   "metadata": {},
   "source": [
    "# Unpacking Elements from Iterables:\n",
    "a, b, c = [1, 2, 3]\n",
    "# This assigns values 1, 2, and 3 to variables a, b, and c."
   ]
  },
  {
   "cell_type": "code",
   "metadata": {},
   "source": [
    "# List Comprehensions:\n",
    "squares = [x**2 for x in range(10)]\n",
    "# This creates a list of squares from 0 to 9."
   ]
  },
  {
   "cell_type": "code",
   "metadata": {},
   "source": [
    "# Using enumerate for Index and Value:\n",
    "for index, value in enumerate(my_list):\n",
    "    print(f\"Index: {index}, Value: {value}\")\n",
    "# Enumerate helps you loop over both the index and value of a list."
   ]
  },
  {
   "cell_type": "code",
   "metadata": {},
   "source": [
    "# Dictionary Comprehensions:\n",
    "squares_dict = {x: x**2 for x in range(5)}\n",
    "# This creates a dictionary with keys and values being the square of the keys."
   ]
  },
  {
   "cell_type": "code",
   "metadata": {},
   "source": [
    "# Unpacking Operator (`*` and `**`):\n",
    "a, *rest = [1, 2, 3, 4]\n",
    "# This assigns 1 to a and the rest of the list to rest."
   ]
  },
  {
   "cell_type": "code",
   "metadata": {},
   "source": [
    "# Lambda Functions:\n",
    "add = lambda x, y: x + y\n",
    "# Lambda functions are concise anonymous functions."
   ]
  },
  {
   "cell_type": "code",
   "metadata": {},
   "source": [
    "# Zip Function:\n",
    "names = [\"Alice\", \"Bob\", \"Charlie\"]\n",
    "ages = [25, 30, 35]\n",
    "combined = list(zip(names, ages))\n",
    "# Zip combines two lists element-wise."
   ]
  },
  {
   "cell_type": "code",
   "metadata": {},
   "source": [
    "# Using `with` for File Handling:\n",
    "with open(\"file.txt\", \"r\") as file:\n",
    "    content = file.read()\n",
    "# The `with` statement ensures proper file handling (closing) even if an exception occurs."
   ]
  },
  {
   "cell_type": "code",
   "metadata": {},
   "source": [
    "# Default Values in Dictionary:\n",
    "age = person.get(\"age\", 25)\n",
    "# This sets the default value of age to 25 if it's not present in the dictionary."
   ]
  },
  {
   "cell_type": "code",
   "metadata": {},
   "source": [
    "# Ternary Conditional Expression:\n",
    "result = \"even\" if x % 2 == 0 else \"odd\"\n",
    "# A concise way for conditional assignments."
   ]
  },
  {
   "cell_type": "code",
   "metadata": {},
   "source": [
    "# `any` and `all` Functions:\n",
    "any([True, False, False])  # True\n",
    "all([True, True, True])    # True\n",
    "# `any` returns True if at least one element is True; `all` returns True if all elements are True."
   ]
  },
  {
   "cell_type": "code",
   "metadata": {},
   "source": [
    "# `collections` Module - Counter:\n",
    "from collections import Counter\n",
    "counts = Counter([1, 2, 2, 3, 3, 3, 4])\n",
    "# Counts the occurrences of elements in a list."
   ]
  },
  {
   "cell_type": "code",
   "metadata": {},
   "source": [
    "# Multiple Assignments in One Line:\n",
    "a, b, c = 1, 2, 3\n",
    "# Multiple variables can be assigned in one line."
   ]
  },
  {
   "cell_type": "code",
   "metadata": {},
   "source": [
    "# String Formatting (f-strings):\n",
    "name = \"Alice\"\n",
    "greeting = f\"Hello, {name}!\"\n",
    "# f-strings make string formatting concise."
   ]
  },
  {
   "cell_type": "code",
   "metadata": {},
   "source": [
    "# Using `map` for Iterables:\n",
    "numbers = [1, 2, 3, 4, 5]\n",
    "# Applies a function to all items in an input list."
   ]
  },
  {
   "cell_type": "code",
   "metadata": {},
   "source": [
    "# `else` Clause in Loops:\n",
    "for i in range(3):\n",
    "    print(i)\n",
    "else:\n",
    "    print(\"Loop completed!\")\n",
    "# The `else` block is executed after the loop completes normally."
   ]
  },
  {
   "cell_type": "code",
   "metadata": {},
   "source": [
    "# Destructuring in Nested Data Structures:\n",
    "person = {\"name\": \"Alice\", \"age\": 30, \"address\": {\"city\": \"Wonderland\", \"zip\": \"12345\"}}\n",
    "city = person.get(\"address\", {}).get(\"city\", \"Unknown\")\n",
    "# Safely extract nested values."
   ]
  },
  {
   "cell_type": "code",
   "metadata": {},
   "source": [
    "# `filter` Function:\n",
    "numbers = [1, 2, 3, 4, 5, 6]\n",
    "evens = list(filter(lambda x: x % 2 == 0, numbers))\n",
    "# Filters elements based on a function."
   ]
  },
  {
   "cell_type": "code",
   "metadata": {},
   "source": [
    "# Formatted String Literals (f-strings) for Floats:\n",
    "pi = 3.14159\n",
    "formatted_pi = f

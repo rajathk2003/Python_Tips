from IPython.display import Markdown, display

# Define the Python tips
python_tips = [
    ("Unpacking Elements from Iterables", "a, b, c = [1, 2, 3]\n# This assigns values 1, 2, and 3 to variables a, b, and c."),
    ("List Comprehensions", "squares = [x**2 for x in range(10)]\n# This creates a list of squares from 0 to 9."),
    ("Using enumerate for Index and Value", "for index, value in enumerate(my_list):\n    print(f\"Index: {index}, Value: {value}\")\n# Enumerate helps you loop over both the index and value of a list."),
    ("Dictionary Comprehensions", "squares_dict = {x: x**2 for x in range(5)}\n# This creates a dictionary with keys and values being the square of the keys."),
    ("Unpacking Operator (`*` and `**`)", "a, *rest = [1, 2, 3, 4]\n# This assigns 1 to a and the rest of the list to rest."),
    ("Lambda Functions", "add = lambda x, y: x + y\n# Lambda functions are concise anonymous functions."),
    ("Zip Function", "names = [\"Alice\", \"Bob\", \"Charlie\"]\nages = [25, 30, 35]\ncombined = list(zip(names, ages))\n# Zip combines two lists element-wise."),
    ("Using `with` for File Handling", "with open(\"file.txt\", \"r\") as file:\n    content = file.read()\n# The `with` statement ensures proper file handling (closing) even if an exception occurs."),
    ("Default Values in Dictionary", "age = person.get(\"age\", 25)\n# This sets the default value of age to 25 if it's not present in the dictionary."),
    ("Ternary Conditional Expression", "result = \"even\" if x % 2 == 0 else \"odd\"\n# A concise way for conditional assignments."),
    ("`any` and `all` Functions", "any([True, False, False])  # True\nall([True, True, True])    # True\n# `any` returns True if at least one element is True; `all` returns True if all elements are True."),
    ("`collections` Module - Counter", "from collections import Counter\ncounts = Counter([1, 2, 2, 3, 3, 3, 4])\n# Counts the occurrences of elements in a list."),
    ("Multiple Assignments in One Line", "a, b, c = 1, 2, 3\n# Multiple variables can be assigned in one line."),
    ("String Formatting (f-strings)", "name = \"Alice\"\ngreeting = f\"Hello, {name}!\"\n# f-strings make string formatting concise."),
    ("Using `map` for Iterables", "numbers = [1, 2, 3, 4, 5]\n# Applies a function to all items in an input list."),
    ("`else` Clause in Loops", "for i in range(3):\n    print(i)\nelse:\n    print(\"Loop completed!\")\n# The `else` block is executed after the loop completes normally."),
    ("Destructuring in Nested Data Structures", "person = {\"name\": \"Alice\", \"age\": 30, \"address\": {\"city\": \"Wonderland\", \"zip\": \"12345\"}}\ncity = person.get(\"address\", {}).get(\"city\", \"Unknown\")\n# Safely extract nested values."),
    ("`filter` Function", "numbers = [1, 2, 3, 4, 5, 6]\nevens = list(filter(lambda x: x % 2 == 0, numbers))\n# Filters elements based on a function."),
    ("Formatted String Literals (f-strings) for Floats", "pi = 3.14159\nformatted_pi = f\"{pi:.2f}\"\n# Formats floating-point numbers to a specified number of decimal places."),
    ("`sorted` Function with Custom Key", "words = [\"apple\", \"banana\", \"kiwi\", \"grape\"]\nsorted_words = sorted(words, key=lambda x: len(x))\n# Sorts a list based on a custom key."),
    ("Underscore for Large Numbers", "large_number = 1_000_000\n# Underscores can be used to make large
